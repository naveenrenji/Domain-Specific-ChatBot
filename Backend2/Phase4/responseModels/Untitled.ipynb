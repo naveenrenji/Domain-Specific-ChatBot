{
 "cells": [
  {
   "cell_type": "code",
   "execution_count": 1,
   "id": "7bfd5fd9-468d-49ad-903a-73fc9466b4f7",
   "metadata": {},
   "outputs": [
    {
     "name": "stdout",
     "output_type": "stream",
     "text": [
      "Requirement already satisfied: langchain_community in /Users/naveenrenji/.pyenv/versions/3.8.12/lib/python3.8/site-packages (0.2.5)\n",
      "Requirement already satisfied: PyYAML>=5.3 in /Users/naveenrenji/.pyenv/versions/3.8.12/lib/python3.8/site-packages (from langchain_community) (6.0.1)\n",
      "Requirement already satisfied: SQLAlchemy<3,>=1.4 in /Users/naveenrenji/.pyenv/versions/3.8.12/lib/python3.8/site-packages (from langchain_community) (2.0.31)\n",
      "Requirement already satisfied: aiohttp<4.0.0,>=3.8.3 in /Users/naveenrenji/.pyenv/versions/3.8.12/lib/python3.8/site-packages (from langchain_community) (3.9.3)\n",
      "Requirement already satisfied: dataclasses-json<0.7,>=0.5.7 in /Users/naveenrenji/.pyenv/versions/3.8.12/lib/python3.8/site-packages (from langchain_community) (0.6.7)\n",
      "Requirement already satisfied: langchain<0.3.0,>=0.2.5 in /Users/naveenrenji/.pyenv/versions/3.8.12/lib/python3.8/site-packages (from langchain_community) (0.2.5)\n",
      "Requirement already satisfied: langchain-core<0.3.0,>=0.2.7 in /Users/naveenrenji/.pyenv/versions/3.8.12/lib/python3.8/site-packages (from langchain_community) (0.2.9)\n",
      "Requirement already satisfied: langsmith<0.2.0,>=0.1.0 in /Users/naveenrenji/.pyenv/versions/3.8.12/lib/python3.8/site-packages (from langchain_community) (0.1.79)\n",
      "Requirement already satisfied: numpy<2,>=1 in /Users/naveenrenji/.pyenv/versions/3.8.12/lib/python3.8/site-packages (from langchain_community) (1.24.4)\n",
      "Requirement already satisfied: requests<3,>=2 in /Users/naveenrenji/.pyenv/versions/3.8.12/lib/python3.8/site-packages (from langchain_community) (2.31.0)\n",
      "Requirement already satisfied: tenacity<9.0.0,>=8.1.0 in /Users/naveenrenji/.pyenv/versions/3.8.12/lib/python3.8/site-packages (from langchain_community) (8.2.3)\n",
      "Requirement already satisfied: aiosignal>=1.1.2 in /Users/naveenrenji/.pyenv/versions/3.8.12/lib/python3.8/site-packages (from aiohttp<4.0.0,>=3.8.3->langchain_community) (1.3.1)\n",
      "Requirement already satisfied: attrs>=17.3.0 in /Users/naveenrenji/.pyenv/versions/3.8.12/lib/python3.8/site-packages (from aiohttp<4.0.0,>=3.8.3->langchain_community) (23.1.0)\n",
      "Requirement already satisfied: frozenlist>=1.1.1 in /Users/naveenrenji/.pyenv/versions/3.8.12/lib/python3.8/site-packages (from aiohttp<4.0.0,>=3.8.3->langchain_community) (1.4.1)\n",
      "Requirement already satisfied: multidict<7.0,>=4.5 in /Users/naveenrenji/.pyenv/versions/3.8.12/lib/python3.8/site-packages (from aiohttp<4.0.0,>=3.8.3->langchain_community) (6.0.5)\n",
      "Requirement already satisfied: yarl<2.0,>=1.0 in /Users/naveenrenji/.pyenv/versions/3.8.12/lib/python3.8/site-packages (from aiohttp<4.0.0,>=3.8.3->langchain_community) (1.9.4)\n",
      "Requirement already satisfied: async-timeout<5.0,>=4.0 in /Users/naveenrenji/.pyenv/versions/3.8.12/lib/python3.8/site-packages (from aiohttp<4.0.0,>=3.8.3->langchain_community) (4.0.3)\n",
      "Requirement already satisfied: marshmallow<4.0.0,>=3.18.0 in /Users/naveenrenji/.pyenv/versions/3.8.12/lib/python3.8/site-packages (from dataclasses-json<0.7,>=0.5.7->langchain_community) (3.21.3)\n",
      "Requirement already satisfied: typing-inspect<1,>=0.4.0 in /Users/naveenrenji/.pyenv/versions/3.8.12/lib/python3.8/site-packages (from dataclasses-json<0.7,>=0.5.7->langchain_community) (0.9.0)\n",
      "Requirement already satisfied: langchain-text-splitters<0.3.0,>=0.2.0 in /Users/naveenrenji/.pyenv/versions/3.8.12/lib/python3.8/site-packages (from langchain<0.3.0,>=0.2.5->langchain_community) (0.2.1)\n",
      "Requirement already satisfied: pydantic<3,>=1 in /Users/naveenrenji/.pyenv/versions/3.8.12/lib/python3.8/site-packages (from langchain<0.3.0,>=0.2.5->langchain_community) (2.6.3)\n",
      "Requirement already satisfied: jsonpatch<2.0,>=1.33 in /Users/naveenrenji/.pyenv/versions/3.8.12/lib/python3.8/site-packages (from langchain-core<0.3.0,>=0.2.7->langchain_community) (1.33)\n",
      "Requirement already satisfied: packaging<25,>=23.2 in /Users/naveenrenji/.pyenv/versions/3.8.12/lib/python3.8/site-packages (from langchain-core<0.3.0,>=0.2.7->langchain_community) (24.1)\n",
      "Requirement already satisfied: orjson<4.0.0,>=3.9.14 in /Users/naveenrenji/.pyenv/versions/3.8.12/lib/python3.8/site-packages (from langsmith<0.2.0,>=0.1.0->langchain_community) (3.10.5)\n",
      "Requirement already satisfied: charset-normalizer<4,>=2 in /Users/naveenrenji/.pyenv/versions/3.8.12/lib/python3.8/site-packages (from requests<3,>=2->langchain_community) (3.2.0)\n",
      "Requirement already satisfied: idna<4,>=2.5 in /Users/naveenrenji/.pyenv/versions/3.8.12/lib/python3.8/site-packages (from requests<3,>=2->langchain_community) (3.4)\n",
      "Requirement already satisfied: urllib3<3,>=1.21.1 in /Users/naveenrenji/.pyenv/versions/3.8.12/lib/python3.8/site-packages (from requests<3,>=2->langchain_community) (2.0.5)\n",
      "Requirement already satisfied: certifi>=2017.4.17 in /Users/naveenrenji/.pyenv/versions/3.8.12/lib/python3.8/site-packages (from requests<3,>=2->langchain_community) (2023.7.22)\n",
      "Requirement already satisfied: typing-extensions>=4.6.0 in /Users/naveenrenji/.pyenv/versions/3.8.12/lib/python3.8/site-packages (from SQLAlchemy<3,>=1.4->langchain_community) (4.8.0)\n",
      "Requirement already satisfied: jsonpointer>=1.9 in /Users/naveenrenji/.pyenv/versions/3.8.12/lib/python3.8/site-packages (from jsonpatch<2.0,>=1.33->langchain-core<0.3.0,>=0.2.7->langchain_community) (2.4)\n",
      "Requirement already satisfied: annotated-types>=0.4.0 in /Users/naveenrenji/.pyenv/versions/3.8.12/lib/python3.8/site-packages (from pydantic<3,>=1->langchain<0.3.0,>=0.2.5->langchain_community) (0.6.0)\n",
      "Requirement already satisfied: pydantic-core==2.16.3 in /Users/naveenrenji/.pyenv/versions/3.8.12/lib/python3.8/site-packages (from pydantic<3,>=1->langchain<0.3.0,>=0.2.5->langchain_community) (2.16.3)\n",
      "Requirement already satisfied: mypy-extensions>=0.3.0 in /Users/naveenrenji/.pyenv/versions/3.8.12/lib/python3.8/site-packages (from typing-inspect<1,>=0.4.0->dataclasses-json<0.7,>=0.5.7->langchain_community) (1.0.0)\n"
     ]
    }
   ],
   "source": [
    "#!pip install langchain_community\n",
    "\n",
    "from langchain_core.prompts import ChatPromptTemplate\n",
    "from langchain_core.output_parsers import StrOutputParser\n",
    "from langchain_community.llms import Ollama"
   ]
  },
  {
   "cell_type": "code",
   "execution_count": 2,
   "id": "19623b19-7394-4a3c-a30f-19443d68fa99",
   "metadata": {},
   "outputs": [],
   "source": [
    "prompt = ChatPromptTemplate.from_messages(\n",
    "    [\n",
    "        (\"system\", \"You are a helpful assistant. Please respond to the user queries.\"),\n",
    "        (\"user\", \"Question: {question}\")\n",
    "    ]\n",
    ")\n",
    "# ollama run gemma:2b\n",
    "# Ollama Llama3 LLM\n",
    "llm = Ollama(model=\"gemma:2b\")\n",
    "output_parser = StrOutputParser()\n",
    "chain = prompt | llm | output_parser\n"
   ]
  },
  {
   "cell_type": "code",
   "execution_count": 3,
   "id": "9fa7a360-528c-4293-87fe-b925490c5e09",
   "metadata": {},
   "outputs": [
    {
     "name": "stdout",
     "output_type": "stream",
     "text": [
      "Response: Hello! It's great to hear from you. How can I assist you today?\n"
     ]
    }
   ],
   "source": [
    "input_text=\"hello how are you?\"\n",
    "response = chain.invoke({\"question\": input_text})\n",
    "print(\"Response:\", response)"
   ]
  },
  {
   "cell_type": "code",
   "execution_count": null,
   "id": "8ce5ac2f-6ffd-4665-8350-98178e83c224",
   "metadata": {},
   "outputs": [],
   "source": []
  }
 ],
 "metadata": {
  "kernelspec": {
   "display_name": "Python 3 (ipykernel)",
   "language": "python",
   "name": "python3"
  },
  "language_info": {
   "codemirror_mode": {
    "name": "ipython",
    "version": 3
   },
   "file_extension": ".py",
   "mimetype": "text/x-python",
   "name": "python",
   "nbconvert_exporter": "python",
   "pygments_lexer": "ipython3",
   "version": "3.8.12"
  }
 },
 "nbformat": 4,
 "nbformat_minor": 5
}
